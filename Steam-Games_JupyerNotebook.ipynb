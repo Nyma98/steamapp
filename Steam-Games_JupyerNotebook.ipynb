{
 "cells": [
  {
   "cell_type": "markdown",
   "id": "f9ccc88b",
   "metadata": {},
   "source": [
    "# 📊 Projektarbeit SP: Was macht ein Spiel erfolgreich?\n",
    "- **Gruppe**: XX\n",
    "- **Namen**: Max Mustermann, ...\n",
    "- **Ziel**: Analyse von Erfolgsfaktoren bei Steam-Spielen auf Basis von Bewertung, Genre, Spielzeit, Altersfreigabe etc.\n",
    "- **Quelle**: Daten über RAWG API\n"
   ]
  },
  {
   "cell_type": "code",
   "execution_count": null,
   "id": "c9d3ff26",
   "metadata": {},
   "outputs": [],
   "source": [
    "# 🔑 API-Verbindung zur RAWG.io API\n",
    "import requests\n",
    "\n",
    "API_KEY = 'DEIN_API_KEY_HIER'\n",
    "BASE_URL = 'https://api.rawg.io/api/games'\n",
    "\n",
    "params = {\n",
    "    'key': API_KEY,\n",
    "    'page_size': 40,\n",
    "    'dates': '2015-01-01,2025-12-31'\n",
    "}\n",
    "response = requests.get(BASE_URL, params=params)\n",
    "data = response.json()\n",
    "data['results'][0]"
   ]
  },
  {
   "cell_type": "code",
   "execution_count": null,
   "id": "d1ae10fa",
   "metadata": {},
   "outputs": [],
   "source": [
    "# 🧹 Datenaufbereitung\n",
    "import pandas as pd\n",
    "\n",
    "games_data = []\n",
    "for game in data['results']:\n",
    "    if not game.get('rating') or not game.get('released'):\n",
    "        continue\n",
    "    games_data.append({\n",
    "        'name': game['name'],\n",
    "        'rating': game['rating'],\n",
    "        'ratings_count': game['ratings_count'],\n",
    "        'released': game['released'],\n",
    "        'genres': [g['name'] for g in game['genres']],\n",
    "        'esrb_rating': game['esrb_rating']['name'] if game['esrb_rating'] else None\n",
    "    })\n",
    "\n",
    "df = pd.DataFrame(games_data)\n",
    "df['year'] = pd.to_datetime(df['released']).dt.year\n",
    "df.head()"
   ]
  },
  {
   "cell_type": "code",
   "execution_count": null,
   "id": "e719d903",
   "metadata": {},
   "outputs": [],
   "source": [
    "# 💾 Speichern in SQLite und SQL-Abfrage\n",
    "import sqlite3\n",
    "\n",
    "conn = sqlite3.connect('games.db')\n",
    "df.to_sql('games', conn, if_exists='replace', index=False)\n",
    "\n",
    "pd.read_sql(\"SELECT name, rating FROM games WHERE rating > 4.5 LIMIT 10\", conn)"
   ]
  },
  {
   "cell_type": "code",
   "execution_count": null,
   "id": "61e66d78",
   "metadata": {},
   "outputs": [],
   "source": [
    "# 📈 Visualisierung nach ESRB Rating\n",
    "import matplotlib.pyplot as plt\n",
    "\n",
    "df.groupby('esrb_rating')['rating'].mean().plot(kind='bar', title='Durchschnittliche Bewertung nach Altersfreigabe')\n",
    "plt.ylabel('Bewertung (0-5)')\n",
    "plt.show()"
   ]
  },
  {
   "cell_type": "code",
   "execution_count": null,
   "id": "0568f13c",
   "metadata": {},
   "outputs": [],
   "source": [
    "# 📊 Statistische Analyse: Bewertung vs. Anzahl Reviews\n",
    "from scipy.stats import pearsonr\n",
    "\n",
    "x = df['ratings_count']\n",
    "y = df['rating']\n",
    "corr, p_value = pearsonr(x, y)\n",
    "print(f\"Korrelationskoeffizient: {corr:.2f}, p-Wert: {p_value:.4f}\")"
   ]
  },
  {
   "cell_type": "markdown",
   "id": "685a8f83",
   "metadata": {},
   "source": [
    "# 📌 Fazit & Diskussion\n",
    "- Was sind eure Erkenntnisse?\n",
    "- Was sind mögliche Einschränkungen?\n",
    "- Was würdet ihr in einer zweiten Version verbessern?\n"
   ]
  }
 ],
 "metadata": {
  "kernelspec": {
   "display_name": "Python 3 (ipykernel)",
   "language": "python",
   "name": "python3"
  },
  "language_info": {
   "codemirror_mode": {
    "name": "ipython",
    "version": 3
   },
   "file_extension": ".py",
   "mimetype": "text/x-python",
   "name": "python",
   "nbconvert_exporter": "python",
   "pygments_lexer": "ipython3",
   "version": "3.12.4"
  }
 },
 "nbformat": 4,
 "nbformat_minor": 5
}
