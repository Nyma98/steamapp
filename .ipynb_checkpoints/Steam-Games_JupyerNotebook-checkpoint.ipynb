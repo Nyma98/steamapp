{
  "cells": [
    {
      "cell_type": "markdown",
      "metadata": {},
      "source": [
        "# \ud83d\udcca Projektarbeit SP: Was macht ein Spiel erfolgreich?\n",
        "- **Gruppe**: XX\n",
        "- **Namen**: Max Mustermann, ...\n",
        "- **Ziel**: Analyse von Erfolgsfaktoren bei Steam-Spielen auf Basis von Bewertung, Genre, Spielzeit, Altersfreigabe etc.\n",
        "- **Quelle**: Daten \u00fcber RAWG API\n"
      ]
    },
    {
      "cell_type": "code",
      "execution_count": null,
      "metadata": {},
      "outputs": [],
      "source": [
        "# \ud83d\udd11 API-Verbindung zur RAWG.io API\n",
        "import requests\n",
        "\n",
        "API_KEY = 'DEIN_API_KEY_HIER'\n",
        "BASE_URL = 'https://api.rawg.io/api/games'\n",
        "\n",
        "params = {\n",
        "    'key': API_KEY,\n",
        "    'page_size': 40,\n",
        "    'dates': '2015-01-01,2025-12-31'\n",
        "}\n",
        "response = requests.get(BASE_URL, params=params)\n",
        "data = response.json()\n",
        "data['results'][0]"
      ]
    },
    {
      "cell_type": "code",
      "execution_count": null,
      "metadata": {},
      "outputs": [],
      "source": [
        "# \ud83e\uddf9 Datenaufbereitung\n",
        "import pandas as pd\n",
        "\n",
        "games_data = []\n",
        "for game in data['results']:\n",
        "    if not game.get('rating') or not game.get('released'):\n",
        "        continue\n",
        "    games_data.append({\n",
        "        'name': game['name'],\n",
        "        'rating': game['rating'],\n",
        "        'ratings_count': game['ratings_count'],\n",
        "        'released': game['released'],\n",
        "        'genres': [g['name'] for g in game['genres']],\n",
        "        'esrb_rating': game['esrb_rating']['name'] if game['esrb_rating'] else None\n",
        "    })\n",
        "\n",
        "df = pd.DataFrame(games_data)\n",
        "df['year'] = pd.to_datetime(df['released']).dt.year\n",
        "df.head()"
      ]
    },
    {
      "cell_type": "code",
      "execution_count": null,
      "metadata": {},
      "outputs": [],
      "source": [
        "# \ud83d\udcbe Speichern in SQLite und SQL-Abfrage\n",
        "import sqlite3\n",
        "\n",
        "conn = sqlite3.connect('games.db')\n",
        "df.to_sql('games', conn, if_exists='replace', index=False)\n",
        "\n",
        "pd.read_sql(\"SELECT name, rating FROM games WHERE rating > 4.5 LIMIT 10\", conn)"
      ]
    },
    {
      "cell_type": "code",
      "execution_count": null,
      "metadata": {},
      "outputs": [],
      "source": [
        "# \ud83d\udcc8 Visualisierung nach ESRB Rating\n",
        "import matplotlib.pyplot as plt\n",
        "\n",
        "df.groupby('esrb_rating')['rating'].mean().plot(kind='bar', title='Durchschnittliche Bewertung nach Altersfreigabe')\n",
        "plt.ylabel('Bewertung (0-5)')\n",
        "plt.show()"
      ]
    },
    {
      "cell_type": "code",
      "execution_count": null,
      "metadata": {},
      "outputs": [],
      "source": [
        "# \ud83d\udcca Statistische Analyse: Bewertung vs. Anzahl Reviews\n",
        "from scipy.stats import pearsonr\n",
        "\n",
        "x = df['ratings_count']\n",
        "y = df['rating']\n",
        "corr, p_value = pearsonr(x, y)\n",
        "print(f\"Korrelationskoeffizient: {corr:.2f}, p-Wert: {p_value:.4f}\")"
      ]
    },
    {
      "cell_type": "markdown",
      "metadata": {},
      "source": [
        "# \ud83d\udccc Fazit & Diskussion\n",
        "- Was sind eure Erkenntnisse?\n",
        "- Was sind m\u00f6gliche Einschr\u00e4nkungen?\n",
        "- Was w\u00fcrdet ihr in einer zweiten Version verbessern?\n"
      ]
    }
  ],
  "metadata": {
    "kernelspec": {
      "display_name": "Python 3",
      "language": "python",
      "name": "python3"
    },
    "language_info": {
      "name": "python",
      "version": "3.x"
    }
  },
  "nbformat": 4,
  "nbformat_minor": 5
}